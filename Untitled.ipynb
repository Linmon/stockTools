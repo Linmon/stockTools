{
 "cells": [
  {
   "cell_type": "code",
   "execution_count": 1,
   "metadata": {},
   "outputs": [],
   "source": [
    "import os\n",
    "import yfinance as yf\n",
    "import pandas as pd\n",
    "import plotly.graph_objects as go\n",
    "import plotly.express as px\n",
    "\n",
    "from datetime import datetime\n",
    "from pyquery import PyQuery\n",
    "from dateutil.relativedelta import relativedelta\n",
    "from FFI import rust_lib"
   ]
  },
  {
   "cell_type": "code",
   "execution_count": 2,
   "metadata": {},
   "outputs": [],
   "source": [
    "symbols = [\n",
    "#         {\"name\": \"^TWII\", \"remark\": \"台灣加權指數\"},\n",
    "#         {\n",
    "#             \"name\": \"^TAIEX\",\n",
    "#             \"remark\": \"台灣加權報酬指數\",\n",
    "#             \"fromPath\": os.path.join(\"./extraData\", \"臺灣加權股價指數\"),\n",
    "#         },\n",
    "        {\"name\": \"^0050\", \"remark\": \"0050報酬指數\", \"fromPath\": os.path.join(\"./extraData\", \"臺灣50指數\")},\n",
    "        {\"name\": \"0050.TW\", \"remark\": \"元大台灣50\", \"replaceDiv\": True},\n",
    "        {\"name\": \"006208.TW\", \"remark\": \"富邦台50\", \"replaceDiv\": True},\n",
    "        # {\"name\": \"0051.TW\", \"remark\": \"元大中型100\", \"replaceDiv\": True},\n",
    "        # {\"name\": \"0056.TW\", \"remark\": \"元大高股息\", \"replaceDiv\": True},\n",
    "        # {\"name\": \"2412.TW\", \"remark\": \"中華電信\", \"replaceDiv\": True},\n",
    "        # {\"name\": \"2002.TW\", \"remark\": \"中鋼\", \"replaceDiv\": True},\n",
    "        # {\"name\": \"2330.TW\", \"remark\": \"台積電\", \"replaceDiv\": True},\n",
    "        # {\"name\": \"2317.TW\", \"remark\": \"鴻海\", \"replaceDiv\": True},\n",
    "        # {\"name\": \"6505.TW\", \"remark\": \"台塑石化\", \"replaceDiv\": True},\n",
    "        # {\"name\": \"3481.TW\", \"remark\": \"群創\", \"replaceDiv\": True},\n",
    "        # {\"name\": \"2303.TW\", \"remark\": \"聯電\", \"replaceDiv\": True},\n",
    "        # {\"name\": \"2308.TW\", \"remark\": \"台達電\", \"replaceDiv\": True},\n",
    "    ]"
   ]
  },
  {
   "cell_type": "code",
   "execution_count": 3,
   "metadata": {},
   "outputs": [],
   "source": [
    "from stock import *\n",
    "start=\"1911-1-1\"\n",
    "end=datetime.now().strftime(\"%Y-%m-%d\")\n",
    "prefix=\"TW\"\n",
    "iYear=5"
   ]
  },
  {
   "cell_type": "code",
   "execution_count": 4,
   "metadata": {},
   "outputs": [
    {
     "name": "stdout",
     "output_type": "stream",
     "text": [
      "^0050  0050報酬指數\n",
      "empty Dividends\n",
      "0050   元大台灣50\n",
      "         Date  Dividends\n",
      "0  2022-01-21       3.20\n",
      "1  2021-07-21       0.35\n",
      "2  2021-01-22       3.05\n",
      "3  2020-07-21       0.70\n",
      "4  2020-01-31       2.90\n",
      "5  2019-07-19       0.70\n",
      "6  2019-01-22       2.30\n",
      "7  2018-07-23       0.70\n",
      "8  2018-01-29       2.20\n",
      "9  2017-07-31       0.70\n",
      "10 2017-02-08       1.70\n",
      "11 2016-07-28       0.85\n",
      "12 2015-10-26       2.00\n",
      "13 2014-10-24       1.55\n",
      "14 2013-10-24       1.35\n",
      "15 2012-10-24       1.85\n",
      "16 2011-10-26       1.95\n",
      "17 2010-10-25       2.20\n",
      "18 2009-10-23       1.00\n",
      "19 2008-10-24       2.00\n",
      "20 2007-10-24       2.50\n",
      "21 2006-10-26       4.00\n",
      "22 2005-05-19       1.85\n",
      "006208 富邦台50\n",
      "         Date  Dividends\n",
      "0  2021-11-16      1.641\n",
      "1  2021-07-16      0.314\n",
      "2  2020-11-17      1.139\n",
      "3  2020-07-21      0.481\n",
      "4  2019-11-20      1.138\n",
      "5  2019-07-18      0.661\n",
      "6  2018-11-29      2.000\n",
      "7  2018-07-26      0.650\n",
      "8  2017-11-30      1.650\n",
      "9  2017-07-27      1.000\n",
      "10 2016-08-02      0.043\n",
      "11 2015-10-29      0.845\n",
      "12 2014-10-29      1.212\n",
      "13 2013-10-30      0.629\n",
      "14 2012-11-01      1.844\n"
     ]
    }
   ],
   "source": [
    "stocks = []\n",
    "for symbol in symbols:\n",
    "    stocks.append(\n",
    "        Stock(\n",
    "            symbol[\"name\"],\n",
    "            remark=symbol[\"remark\"],\n",
    "            start=start,\n",
    "            end=end,\n",
    "            extraDiv=symbol.get(\"extraDiv\", {}),\n",
    "            replaceDiv=symbol.get(\"replaceDiv\", False),\n",
    "            fromPath=symbol.get(\"fromPath\", False),\n",
    "        )\n",
    "    )"
   ]
  },
  {
   "cell_type": "code",
   "execution_count": 6,
   "metadata": {},
   "outputs": [
    {
     "name": "stdout",
     "output_type": "stream",
     "text": [
      "      ^0050  0050報酬指數\n",
      "2002        -4.063072\n",
      "2003        41.077318\n",
      "2004         5.600530\n",
      "2005        10.724091\n",
      "2006        20.930369\n",
      "2007        11.480736\n",
      "2008       -42.942005\n",
      "2009        73.995226\n",
      "2010        13.096128\n",
      "2011       -15.482019\n",
      "2012        12.714277\n",
      "2013        11.910826\n",
      "2014        17.612476\n",
      "2015        -5.690373\n",
      "2016        19.121265\n",
      "2017        18.827927\n",
      "2018        -4.416104\n",
      "2019        33.714511\n",
      "2020        32.255595\n",
      "2021        22.417878\n",
      "2022         2.155748\n",
      "      0050   元大台灣50\n",
      "2008     -41.624472\n",
      "2009      73.779942\n",
      "2010      13.127501\n",
      "2011     -15.813465\n",
      "2012      11.924623\n",
      "2013      11.676171\n",
      "2014      16.664002\n",
      "2015      -6.280614\n",
      "2016      19.648433\n",
      "2017      18.138871\n",
      "2018      -4.938501\n",
      "2019      33.521141\n",
      "2020      31.139041\n",
      "2021      21.923261\n",
      "2022       2.439865\n",
      "      006208 富邦台50\n",
      "2012      8.828110\n",
      "2013      9.724183\n",
      "2014     17.969171\n",
      "2015     -5.830744\n",
      "2016     17.196972\n",
      "2017     21.418283\n",
      "2018     -5.452392\n",
      "2019     33.593881\n",
      "2020     31.712171\n",
      "2021     21.990929\n",
      "2022      2.443494\n"
     ]
    }
   ],
   "source": [
    "for st in stocks:\n",
    "    print(st.yearReturn)"
   ]
  },
  {
   "cell_type": "markdown",
   "metadata": {},
   "source": [
    "# ==============================================================="
   ]
  },
  {
   "cell_type": "code",
   "execution_count": null,
   "metadata": {},
   "outputs": [],
   "source": [
    "data = {}\n",
    "\n",
    "for st in stocks:\n",
    "    df = st.history.set_index(\"Date\")\n",
    "    if \"Open\" not in df.columns:\n",
    "        df[\"Open\"] = 0\n",
    "    if \"High\" not in df.columns:\n",
    "        df[\"High\"] = 0\n",
    "    if \"Low\" not in df.columns:\n",
    "        df[\"Low\"] = 0\n",
    "    if \"Volume\" not in df.columns:\n",
    "        df[\"Volume\"] = 0\n",
    "    df = df[[\"Open\", \"High\", \"Low\", \"Close\", \"Adj Close Cal\", \"Volume\"]]\n",
    "    df = df.rename({\"Adj Close Cal\": \"CloseAdj\"}, axis=\"columns\")\n",
    "    data[st.name] = df\n",
    "\n",
    "df = pd.concat(data, axis=1)\n",
    "\n",
    "data_stat_year = {}\n",
    "for st in stocks:\n",
    "    df1 = df[st.name]\n",
    "    df1 = df1.dropna()\n",
    "    df1.loc[:, \"Volume\"] = df1[\"Volume\"].astype(int)\n",
    "\n",
    "    with rust_lib.Stock(df1) as stock:\n",
    "        activeYear = stock.stat_active_year()\n",
    "        holdYear = stock.stat_hold_year()\n",
    "\n",
    "    data_stat_year[f\"{st.symbol:7s} A {st.remark}\"] = activeYear * 100\n",
    "    data_stat_year[f\"{st.symbol:7s} P {st.remark}\"] = holdYear * 100"
   ]
  },
  {
   "cell_type": "code",
   "execution_count": null,
   "metadata": {},
   "outputs": [],
   "source": [
    "data_stat_year"
   ]
  },
  {
   "cell_type": "code",
   "execution_count": null,
   "metadata": {},
   "outputs": [],
   "source": [
    "df=pd.concat(data_stat_year)\n",
    "df"
   ]
  },
  {
   "cell_type": "code",
   "execution_count": null,
   "metadata": {},
   "outputs": [],
   "source": [
    "dataList = []\n",
    "for symbol, data in df.groupby(level=0):\n",
    "    data = data.dropna(axis=1)\n",
    "    dd = {\n",
    "        \"type\": \"box\",\n",
    "        \"name\": symbol,\n",
    "        \"x\": data.columns,\n",
    "        \"q1\": data.loc[:, \"25%\", :].values[0],\n",
    "        \"median\": data.loc[:, \"50%\", :].values[0],\n",
    "        \"q3\": data.loc[:, \"75%\", :].values[0],\n",
    "        \"lowerfence\": data.loc[:, \"min\", :].values[0],\n",
    "        \"upperfence\": data.loc[:, \"max\", :].values[0],\n",
    "        \"mean\": data.loc[:, \"mean\", :].values[0],\n",
    "        \"sd\": data.loc[:, \"std\", :].values[0],\n",
    "    }\n",
    "    dataList.append(dd)\n",
    "dataList"
   ]
  },
  {
   "cell_type": "code",
   "execution_count": null,
   "metadata": {},
   "outputs": [],
   "source": [
    "data.dropna(axis=1)"
   ]
  },
  {
   "cell_type": "code",
   "execution_count": null,
   "metadata": {},
   "outputs": [],
   "source": []
  },
  {
   "cell_type": "code",
   "execution_count": null,
   "metadata": {},
   "outputs": [],
   "source": []
  }
 ],
 "metadata": {
  "kernelspec": {
   "display_name": "Python 3",
   "language": "python",
   "name": "python3"
  },
  "language_info": {
   "codemirror_mode": {
    "name": "ipython",
    "version": 3
   },
   "file_extension": ".py",
   "mimetype": "text/x-python",
   "name": "python",
   "nbconvert_exporter": "python",
   "pygments_lexer": "ipython3",
   "version": "3.8.8"
  }
 },
 "nbformat": 4,
 "nbformat_minor": 4
}
