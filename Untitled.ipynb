{
 "cells": [
  {
   "cell_type": "code",
   "execution_count": 1,
   "metadata": {},
   "outputs": [],
   "source": [
    "import pandas as pd\n",
    "import io\n",
    "import requests\n",
    "import os\n",
    "import time\n",
    "\n",
    "from datetime import datetime\n",
    "from dateutil.relativedelta import relativedelta"
   ]
  },
  {
   "cell_type": "code",
   "execution_count": 2,
   "metadata": {},
   "outputs": [],
   "source": [
    "def transform_date(date):  # 民國轉西元\n",
    "    y, m, d = date.split(\"/\")\n",
    "    return str(int(y) + 1911) + \"/\" + m + \"/\" + d\n",
    "\n",
    "def process_data(data):\n",
    "    data = data.replace(\",\", \"\")\n",
    "    data = data.replace(\"--\", \"\")\n",
    "\n",
    "    return data"
   ]
  },
  {
   "cell_type": "code",
   "execution_count": 3,
   "metadata": {},
   "outputs": [],
   "source": [
    "with requests.Session() as s:\n",
    "    end = datetime.now() + relativedelta(day=1)\n",
    "    d = end.strftime(\"%Y%m%d\")\n",
    "\n",
    "    histURL = f\"https://www.twse.com.tw/indicesReport/MI_5MINS_HIST?response=csv&date={d}\"\n",
    "    totalReturnURL = f\"https://www.twse.com.tw/indicesReport/MFI94U?response=csv&date={d}\"\n",
    "\n",
    "    c = s.get(histURL).content\n",
    "    hist = pd.read_csv(io.StringIO(c.decode(\"big5\")), header=1).drop(\"Unnamed: 5\", axis=1)\n",
    "\n",
    "    c = s.get(totalReturnURL).content\n",
    "    totalReturn = pd.read_csv(io.StringIO(c.decode(\"big5\")), header=1).drop(\"Unnamed: 2\", axis=1)"
   ]
  },
  {
   "cell_type": "code",
   "execution_count": 4,
   "metadata": {},
   "outputs": [
    {
     "data": {
      "text/html": [
       "<div>\n",
       "<style scoped>\n",
       "    .dataframe tbody tr th:only-of-type {\n",
       "        vertical-align: middle;\n",
       "    }\n",
       "\n",
       "    .dataframe tbody tr th {\n",
       "        vertical-align: top;\n",
       "    }\n",
       "\n",
       "    .dataframe thead th {\n",
       "        text-align: right;\n",
       "    }\n",
       "</style>\n",
       "<table border=\"1\" class=\"dataframe\">\n",
       "  <thead>\n",
       "    <tr style=\"text-align: right;\">\n",
       "      <th></th>\n",
       "      <th>日期</th>\n",
       "      <th>開盤指數</th>\n",
       "      <th>最高指數</th>\n",
       "      <th>最低指數</th>\n",
       "      <th>收盤指數</th>\n",
       "      <th>日　期</th>\n",
       "      <th>發行量加權股價報酬指數</th>\n",
       "      <th>Date</th>\n",
       "      <th>Open</th>\n",
       "      <th>High</th>\n",
       "      <th>Low</th>\n",
       "      <th>Close</th>\n",
       "      <th>Adj Close</th>\n",
       "      <th>Dividends</th>\n",
       "      <th>Stock Splits</th>\n",
       "    </tr>\n",
       "  </thead>\n",
       "  <tbody>\n",
       "    <tr>\n",
       "      <th>0</th>\n",
       "      <td>110/02/01</td>\n",
       "      <td>15,176.56</td>\n",
       "      <td>15,429.98</td>\n",
       "      <td>15,089.96</td>\n",
       "      <td>15,410.09</td>\n",
       "      <td>110/02/01</td>\n",
       "      <td>29,749.49</td>\n",
       "      <td>2021-02-01</td>\n",
       "      <td>15176.56</td>\n",
       "      <td>15429.98</td>\n",
       "      <td>15089.96</td>\n",
       "      <td>15410.09</td>\n",
       "      <td>29749.49</td>\n",
       "      <td>0</td>\n",
       "      <td>0</td>\n",
       "    </tr>\n",
       "    <tr>\n",
       "      <th>1</th>\n",
       "      <td>110/02/02</td>\n",
       "      <td>15,546.69</td>\n",
       "      <td>15,838.15</td>\n",
       "      <td>15,546.69</td>\n",
       "      <td>15,760.05</td>\n",
       "      <td>110/02/02</td>\n",
       "      <td>30,425.11</td>\n",
       "      <td>2021-02-02</td>\n",
       "      <td>15546.69</td>\n",
       "      <td>15838.15</td>\n",
       "      <td>15546.69</td>\n",
       "      <td>15760.05</td>\n",
       "      <td>30425.11</td>\n",
       "      <td>0</td>\n",
       "      <td>0</td>\n",
       "    </tr>\n",
       "  </tbody>\n",
       "</table>\n",
       "</div>"
      ],
      "text/plain": [
       "          日期       開盤指數       最高指數       最低指數       收盤指數        日　期  \\\n",
       "0  110/02/01  15,176.56  15,429.98  15,089.96  15,410.09  110/02/01   \n",
       "1  110/02/02  15,546.69  15,838.15  15,546.69  15,760.05  110/02/02   \n",
       "\n",
       "  發行量加權股價報酬指數       Date      Open      High       Low     Close  Adj Close  \\\n",
       "0   29,749.49 2021-02-01  15176.56  15429.98  15089.96  15410.09   29749.49   \n",
       "1   30,425.11 2021-02-02  15546.69  15838.15  15546.69  15760.05   30425.11   \n",
       "\n",
       "   Dividends  Stock Splits  \n",
       "0          0             0  \n",
       "1          0             0  "
      ]
     },
     "execution_count": 4,
     "metadata": {},
     "output_type": "execute_result"
    }
   ],
   "source": [
    "df = hist.join(totalReturn)\n",
    "assert df[df[\"日期\"] != df[\"日　期\"]].empty\n",
    "\n",
    "df.loc[:, \"Date\"] = pd.to_datetime(df[\"日期\"].apply(transform_date), format=\"%Y/%m/%d\")\n",
    "df.loc[:, \"Open\"] = df[\"開盤指數\"].apply(process_data).astype(float)\n",
    "df.loc[:, \"High\"] = df[\"最高指數\"].str.replace(\",\", \"\").astype(float)\n",
    "df.loc[:, \"Low\"] = df[\"最低指數\"].str.replace(\",\", \"\").astype(float)\n",
    "df.loc[:, \"Close\"] = df[\"收盤指數\"].str.replace(\",\", \"\").astype(float)\n",
    "df.loc[:, \"Adj Close\"] = df[\"發行量加權股價報酬指數\"].str.replace(\",\", \"\").astype(float)\n",
    "df.loc[:, \"Dividends\"] = 0\n",
    "df.loc[:, \"Stock Splits\"] = 0\n",
    "df"
   ]
  },
  {
   "cell_type": "code",
   "execution_count": 5,
   "metadata": {},
   "outputs": [
    {
     "data": {
      "text/plain": [
       "日期                      object\n",
       "開盤指數                    object\n",
       "最高指數                    object\n",
       "最低指數                    object\n",
       "收盤指數                    object\n",
       "日　期                     object\n",
       "發行量加權股價報酬指數             object\n",
       "Date            datetime64[ns]\n",
       "Open                   float64\n",
       "High                   float64\n",
       "Low                    float64\n",
       "Close                  float64\n",
       "Adj Close              float64\n",
       "Dividends                int64\n",
       "Stock Splits             int64\n",
       "dtype: object"
      ]
     },
     "execution_count": 5,
     "metadata": {},
     "output_type": "execute_result"
    }
   ],
   "source": [
    "df.dtypes"
   ]
  },
  {
   "cell_type": "code",
   "execution_count": 19,
   "metadata": {},
   "outputs": [
    {
     "ename": "AssertionError",
     "evalue": "",
     "output_type": "error",
     "traceback": [
      "\u001b[1;31m---------------------------------------------------------------------------\u001b[0m",
      "\u001b[1;31mAssertionError\u001b[0m                            Traceback (most recent call last)",
      "\u001b[1;32m<ipython-input-19-8762e72c93ba>\u001b[0m in \u001b[0;36m<module>\u001b[1;34m()\u001b[0m\n\u001b[1;32m----> 1\u001b[1;33m \u001b[1;32massert\u001b[0m \u001b[1;32mnot\u001b[0m \u001b[0mdf\u001b[0m\u001b[1;33m[\u001b[0m\u001b[0mdf\u001b[0m\u001b[1;33m[\u001b[0m\u001b[1;34m\"日期\"\u001b[0m\u001b[1;33m]\u001b[0m \u001b[1;33m!=\u001b[0m \u001b[0mdf\u001b[0m\u001b[1;33m[\u001b[0m\u001b[1;34m\"日　期\"\u001b[0m\u001b[1;33m]\u001b[0m\u001b[1;33m]\u001b[0m\u001b[1;33m.\u001b[0m\u001b[0mempty\u001b[0m\u001b[1;33m\u001b[0m\u001b[0m\n\u001b[0m",
      "\u001b[1;31mAssertionError\u001b[0m: "
     ]
    }
   ],
   "source": [
    "assert not df[df[\"日期\"] != df[\"日　期\"]].empty"
   ]
  }
 ],
 "metadata": {
  "kernelspec": {
   "display_name": "Python 3",
   "language": "python",
   "name": "python3"
  },
  "language_info": {
   "codemirror_mode": {
    "name": "ipython",
    "version": 3
   },
   "file_extension": ".py",
   "mimetype": "text/x-python",
   "name": "python",
   "nbconvert_exporter": "python",
   "pygments_lexer": "ipython3",
   "version": "3.6.4"
  }
 },
 "nbformat": 4,
 "nbformat_minor": 4
}
